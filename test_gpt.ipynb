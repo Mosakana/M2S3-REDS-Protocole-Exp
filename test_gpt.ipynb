{
 "cells": [
  {
   "cell_type": "code",
   "metadata": {
    "ExecuteTime": {
     "end_time": "2025-02-12T21:27:21.456865Z",
     "start_time": "2025-02-12T21:27:18.670992Z"
    }
   },
   "source": [
    "import pandas as pd\n",
    "from datasets import Dataset, load_dataset\n",
    "from transformers import GPT2LMHeadModel, GPT2Tokenizer\n",
    "from pathlib import Path\n",
    "from metric import compute_metrics"
   ],
   "outputs": [],
   "execution_count": 1
  },
  {
   "cell_type": "code",
   "metadata": {
    "ExecuteTime": {
     "end_time": "2025-02-12T21:27:21.713209Z",
     "start_time": "2025-02-12T21:27:21.456865Z"
    }
   },
   "source": [
    "model_name = 'gpt2'\n",
    "path_to_model = Path('./model')\n",
    "model = GPT2LMHeadModel.from_pretrained(path_to_model)\n",
    "tokenizer = GPT2Tokenizer.from_pretrained(model_name)\n",
    "tokenizer.pad_token = tokenizer.eos_token"
   ],
   "outputs": [],
   "execution_count": 2
  },
  {
   "cell_type": "code",
   "metadata": {
    "ExecuteTime": {
     "end_time": "2025-02-12T21:27:21.962572Z",
     "start_time": "2025-02-12T21:27:21.896333Z"
    }
   },
   "source": [
    "with open('./1_test_str_prompt.txt', 'r', encoding='utf-8') as file:\n",
    "    test_prompt = file.readlines()\n",
    "\n",
    "with open('./1_test_str_target.txt', 'r', encoding='utf-8') as file:\n",
    "    test_target = file.readlines()\n",
    "    \n",
    "clean_test_data = {'prompt': [doc.replace('\\t', '\\n')[:-2] for doc in test_prompt],\n",
    "                    'target': [doc.replace('\\t', '\\n')[:-1] for doc in test_target]}\n",
    "\n",
    "test_df = pd.DataFrame(clean_test_data)\n",
    "test_dataset = Dataset.from_pandas(test_df)"
   ],
   "outputs": [],
   "execution_count": 3
  },
  {
   "metadata": {
    "ExecuteTime": {
     "end_time": "2025-02-12T21:27:21.975005Z",
     "start_time": "2025-02-12T21:27:21.969423Z"
    }
   },
   "cell_type": "code",
   "source": "test_dataset[1]\n",
   "outputs": [
    {
     "data": {
      "text/plain": [
       "{'prompt': 'Table: | Description Losses 1939/40 1940/41 1941/42 1942/43 1943/44 1944/45 Total | Direct War Losses 360,000     183,000 543,000 | Murdered 75,000 100,000 116,000 133,000 82,000  506,000 | Deaths In Prisons & Camps 69,000 210,000 220,000 266,000 381,000  1,146,000 | Deaths Outside of Prisons & Camps  42,000 71,000 142,000 218,000  473,000 | Murdered in Eastern Regions      100,000 100,000 | Deaths other countries       2,000 | Total 504,000 352,000 407,000 541,000 681,000 270,000 2,770,000 |\\nQuestion: how many people were murdered in 1940/41?\\nAnswers:',\n",
       " 'target': ' | 100,000 |'}"
      ]
     },
     "execution_count": 4,
     "metadata": {},
     "output_type": "execute_result"
    }
   ],
   "execution_count": 4
  },
  {
   "metadata": {
    "ExecuteTime": {
     "end_time": "2025-02-12T21:27:22.006139Z",
     "start_time": "2025-02-12T21:27:21.980087Z"
    }
   },
   "cell_type": "code",
   "source": [
    "tokenized = tokenizer(test_dataset[15][\"prompt\"], truncation=True, return_tensors=\"pt\")\n",
    "tokenized"
   ],
   "outputs": [
    {
     "data": {
      "text/plain": [
       "{'input_ids': tensor([[10962,    25,   930,  7536,  9385,  3471,     2, 10916,     2, 14413,\n",
       "          3195, 25414, 46502,   590,   930,  2693,   513, 11287,  1906,  1925,\n",
       "          1078, 42165,     9,  1303,  1157, 15778,  7663,  5595, 18899,    11,\n",
       "          8355,   220,   370,  1849,  3682,  1906,  1485,  9415,    11, 14454,\n",
       "           930,  2693,   838, 38684,  1303,  1157, 16754,  1906,    35, 11870,\n",
       "         10499,  5595,   309, 16241,  7335,  8546,    11,  8355,   449,  3705,\n",
       "           370,  1849,  1558,  1906,    22,  4317,    11, 10163,   930,  2693,\n",
       "          1596,   379,  1849, 42007,  6618,  1303,  1065, 36065,  1891, 10499,\n",
       "          5595,   376, 27067,  4244,    11,  5923,  9738,   370,  1849,  1485,\n",
       "          1906,    21,  6740,    11, 49352,   930,  2693,  1987, 30941,  1531,\n",
       "             9,  1303,  1157, 15778,  7663,  5595, 18899,    11,  8355,   220,\n",
       "           370,  1849,  1238,  1906,   940,  9773,    11, 46636,   930,  3267,\n",
       "           352,  7859,  1303,  1157, 16754,  1906,    35, 11870, 10499,  5595,\n",
       "           309, 16241,  7335,  8546,    11,  8355, 10409,   370,  1849,  1959,\n",
       "          1906,  2078,  4317,    11, 10163,   930,  3267,   807,  8050,  4544,\n",
       "             9,  1303,  1157, 16754,  1906,    35, 11870, 10499,  5595,   309,\n",
       "         16241,  7335,  8546,    11,  8355,   220,   370,  1849,  1415,  1906,\n",
       "            21,  4317,    11, 10163,   930,  3267,  1315,   379,  1849, 43139,\n",
       "         10702,  1303,   940, 34506,  1044, 10499,  5595, 27633,  4244,    11,\n",
       "         29025,   357, 22747,  3909,   287,  3267,     8, 10409,   370,  1849,\n",
       "          1558,  1906,  1485,  9907,    11,    23,  3980,   930,  3267,  2534,\n",
       "         30093,  4544,  1303,    23, 16754,  1906,    35, 11870, 10499,  5595,\n",
       "           309, 16241,  7335,  8546,    11,  8355,   357,    49, 47310,     8,\n",
       "          9738,   370,  1849,  2481,  1906,   940,  4317,    11, 10163,   930,\n",
       "          3389,   642,   379,  1849,  6561,    52,  1303,    21, 17030, 10499,\n",
       "          5595, 38617, 27478,    11,  9131,   357,    49, 47310,     8, 10409,\n",
       "           370,  1849,  2327,  1906,  1558,  5441,    11, 36625,   930,  3389,\n",
       "          1105,   379,  1849,     2,  1238,  1849, 17140,   747, 12715,  1812,\n",
       "          1303,    21,  4746,  7663,  5595, 20956,  4244,    11,  6579,   357,\n",
       "            49, 47310,     8,  9738,   370,  1849,  1959,  1906,  1495,  6073,\n",
       "            11, 31128,   930,  3389,   678,  1303,    21,  1849,    32,   549,\n",
       "           700,  1303,    19, 15778,  7663,  5595, 18899,    11,  8355,   357,\n",
       "         22797,  8693,     8,  9738,   370,  1849,  2481,  1906,  1415,  9698,\n",
       "            11,  2931,    16,   930,  3426,   513,  3691,    13,  1849,     2,\n",
       "            21,  1849, 31135,  1303,    18,  7859, 31390,  5595,  9371,    11,\n",
       "         14545,   357, 23683, 10749,  3776,     8,  9738,   406,  1849,  1954,\n",
       "          1906,  1731,  8915,    11, 48365,   930,  3269,   362,    11,  8735,\n",
       "          3691,    13,  1849,     2,  1485,  1849, 31274,  1812,     9,  1303,\n",
       "            21, 15792, 14932,  8693,  5595, 13117,    11,  9977,   357, 31135,\n",
       "         15792, 14932,  8693,     8,  9738,   370,  1849,  1731,  1906,  1558,\n",
       "          9166,    11, 22186,   930,   198, 24361,    25,   644,   373,   262,\n",
       "          2472,  1271,   286,  2173,  7781,   416,   262, 20013,   287,   262,\n",
       "           938,   513,  1830,  5929,    13,   198,  2025, 37848,    25]]), 'attention_mask': tensor([[1, 1, 1, 1, 1, 1, 1, 1, 1, 1, 1, 1, 1, 1, 1, 1, 1, 1, 1, 1, 1, 1, 1, 1,\n",
       "         1, 1, 1, 1, 1, 1, 1, 1, 1, 1, 1, 1, 1, 1, 1, 1, 1, 1, 1, 1, 1, 1, 1, 1,\n",
       "         1, 1, 1, 1, 1, 1, 1, 1, 1, 1, 1, 1, 1, 1, 1, 1, 1, 1, 1, 1, 1, 1, 1, 1,\n",
       "         1, 1, 1, 1, 1, 1, 1, 1, 1, 1, 1, 1, 1, 1, 1, 1, 1, 1, 1, 1, 1, 1, 1, 1,\n",
       "         1, 1, 1, 1, 1, 1, 1, 1, 1, 1, 1, 1, 1, 1, 1, 1, 1, 1, 1, 1, 1, 1, 1, 1,\n",
       "         1, 1, 1, 1, 1, 1, 1, 1, 1, 1, 1, 1, 1, 1, 1, 1, 1, 1, 1, 1, 1, 1, 1, 1,\n",
       "         1, 1, 1, 1, 1, 1, 1, 1, 1, 1, 1, 1, 1, 1, 1, 1, 1, 1, 1, 1, 1, 1, 1, 1,\n",
       "         1, 1, 1, 1, 1, 1, 1, 1, 1, 1, 1, 1, 1, 1, 1, 1, 1, 1, 1, 1, 1, 1, 1, 1,\n",
       "         1, 1, 1, 1, 1, 1, 1, 1, 1, 1, 1, 1, 1, 1, 1, 1, 1, 1, 1, 1, 1, 1, 1, 1,\n",
       "         1, 1, 1, 1, 1, 1, 1, 1, 1, 1, 1, 1, 1, 1, 1, 1, 1, 1, 1, 1, 1, 1, 1, 1,\n",
       "         1, 1, 1, 1, 1, 1, 1, 1, 1, 1, 1, 1, 1, 1, 1, 1, 1, 1, 1, 1, 1, 1, 1, 1,\n",
       "         1, 1, 1, 1, 1, 1, 1, 1, 1, 1, 1, 1, 1, 1, 1, 1, 1, 1, 1, 1, 1, 1, 1, 1,\n",
       "         1, 1, 1, 1, 1, 1, 1, 1, 1, 1, 1, 1, 1, 1, 1, 1, 1, 1, 1, 1, 1, 1, 1, 1,\n",
       "         1, 1, 1, 1, 1, 1, 1, 1, 1, 1, 1, 1, 1, 1, 1, 1, 1, 1, 1, 1, 1, 1, 1, 1,\n",
       "         1, 1, 1, 1, 1, 1, 1, 1, 1, 1, 1, 1, 1, 1, 1, 1, 1, 1, 1, 1, 1, 1, 1, 1,\n",
       "         1, 1, 1, 1, 1, 1, 1, 1, 1, 1, 1, 1, 1, 1, 1, 1, 1, 1, 1, 1, 1, 1, 1, 1,\n",
       "         1, 1, 1, 1, 1, 1, 1, 1, 1, 1, 1, 1, 1, 1, 1, 1, 1, 1, 1, 1, 1, 1, 1, 1,\n",
       "         1, 1, 1, 1, 1, 1, 1, 1, 1, 1, 1, 1, 1, 1, 1, 1, 1, 1, 1, 1, 1]])}"
      ]
     },
     "execution_count": 5,
     "metadata": {},
     "output_type": "execute_result"
    }
   ],
   "execution_count": 5
  },
  {
   "metadata": {
    "ExecuteTime": {
     "end_time": "2025-02-12T21:27:22.531189Z",
     "start_time": "2025-02-12T21:27:22.013796Z"
    }
   },
   "cell_type": "code",
   "source": "generated_ids = model.generate(**tokenized, do_sample=False, max_new_tokens=100, repetition_penalty=5.0)",
   "outputs": [
    {
     "name": "stderr",
     "output_type": "stream",
     "text": [
      "Setting `pad_token_id` to `eos_token_id`:None for open-end generation.\n"
     ]
    }
   ],
   "execution_count": 6
  },
  {
   "metadata": {
    "ExecuteTime": {
     "end_time": "2025-02-12T21:27:22.545176Z",
     "start_time": "2025-02-12T21:27:22.540543Z"
    }
   },
   "cell_type": "code",
   "source": "print(generated_ids)",
   "outputs": [
    {
     "name": "stdout",
     "output_type": "stream",
     "text": [
      "tensor([[10962,    25,   930,  7536,  9385,  3471,     2, 10916,     2, 14413,\n",
      "          3195, 25414, 46502,   590,   930,  2693,   513, 11287,  1906,  1925,\n",
      "          1078, 42165,     9,  1303,  1157, 15778,  7663,  5595, 18899,    11,\n",
      "          8355,   220,   370,  1849,  3682,  1906,  1485,  9415,    11, 14454,\n",
      "           930,  2693,   838, 38684,  1303,  1157, 16754,  1906,    35, 11870,\n",
      "         10499,  5595,   309, 16241,  7335,  8546,    11,  8355,   449,  3705,\n",
      "           370,  1849,  1558,  1906,    22,  4317,    11, 10163,   930,  2693,\n",
      "          1596,   379,  1849, 42007,  6618,  1303,  1065, 36065,  1891, 10499,\n",
      "          5595,   376, 27067,  4244,    11,  5923,  9738,   370,  1849,  1485,\n",
      "          1906,    21,  6740,    11, 49352,   930,  2693,  1987, 30941,  1531,\n",
      "             9,  1303,  1157, 15778,  7663,  5595, 18899,    11,  8355,   220,\n",
      "           370,  1849,  1238,  1906,   940,  9773,    11, 46636,   930,  3267,\n",
      "           352,  7859,  1303,  1157, 16754,  1906,    35, 11870, 10499,  5595,\n",
      "           309, 16241,  7335,  8546,    11,  8355, 10409,   370,  1849,  1959,\n",
      "          1906,  2078,  4317,    11, 10163,   930,  3267,   807,  8050,  4544,\n",
      "             9,  1303,  1157, 16754,  1906,    35, 11870, 10499,  5595,   309,\n",
      "         16241,  7335,  8546,    11,  8355,   220,   370,  1849,  1415,  1906,\n",
      "            21,  4317,    11, 10163,   930,  3267,  1315,   379,  1849, 43139,\n",
      "         10702,  1303,   940, 34506,  1044, 10499,  5595, 27633,  4244,    11,\n",
      "         29025,   357, 22747,  3909,   287,  3267,     8, 10409,   370,  1849,\n",
      "          1558,  1906,  1485,  9907,    11,    23,  3980,   930,  3267,  2534,\n",
      "         30093,  4544,  1303,    23, 16754,  1906,    35, 11870, 10499,  5595,\n",
      "           309, 16241,  7335,  8546,    11,  8355,   357,    49, 47310,     8,\n",
      "          9738,   370,  1849,  2481,  1906,   940,  4317,    11, 10163,   930,\n",
      "          3389,   642,   379,  1849,  6561,    52,  1303,    21, 17030, 10499,\n",
      "          5595, 38617, 27478,    11,  9131,   357,    49, 47310,     8, 10409,\n",
      "           370,  1849,  2327,  1906,  1558,  5441,    11, 36625,   930,  3389,\n",
      "          1105,   379,  1849,     2,  1238,  1849, 17140,   747, 12715,  1812,\n",
      "          1303,    21,  4746,  7663,  5595, 20956,  4244,    11,  6579,   357,\n",
      "            49, 47310,     8,  9738,   370,  1849,  1959,  1906,  1495,  6073,\n",
      "            11, 31128,   930,  3389,   678,  1303,    21,  1849,    32,   549,\n",
      "           700,  1303,    19, 15778,  7663,  5595, 18899,    11,  8355,   357,\n",
      "         22797,  8693,     8,  9738,   370,  1849,  2481,  1906,  1415,  9698,\n",
      "            11,  2931,    16,   930,  3426,   513,  3691,    13,  1849,     2,\n",
      "            21,  1849, 31135,  1303,    18,  7859, 31390,  5595,  9371,    11,\n",
      "         14545,   357, 23683, 10749,  3776,     8,  9738,   406,  1849,  1954,\n",
      "          1906,  1731,  8915,    11, 48365,   930,  3269,   362,    11,  8735,\n",
      "          3691,    13,  1849,     2,  1485,  1849, 31274,  1812,     9,  1303,\n",
      "            21, 15792, 14932,  8693,  5595, 13117,    11,  9977,   357, 31135,\n",
      "         15792, 14932,  8693,     8,  9738,   370,  1849,  1731,  1906,  1558,\n",
      "          9166,    11, 22186,   930,   198, 24361,    25,   644,   373,   262,\n",
      "          2472,  1271,   286,  2173,  7781,   416,   262, 20013,   287,   262,\n",
      "           938,   513,  1830,  5929,    13,   198,  2025, 37848,    25,  8854,\n",
      "          2425,  1828,   930, 50256]])\n"
     ]
    }
   ],
   "execution_count": 7
  },
  {
   "metadata": {
    "ExecuteTime": {
     "end_time": "2025-02-12T21:27:22.653170Z",
     "start_time": "2025-02-12T21:27:22.644972Z"
    }
   },
   "cell_type": "code",
   "source": "answer = tokenizer.batch_decode(generated_ids, skip_special_tokens=tokenizer.eos_token)",
   "outputs": [],
   "execution_count": 8
  },
  {
   "metadata": {
    "ExecuteTime": {
     "end_time": "2025-02-12T21:27:22.675424Z",
     "start_time": "2025-02-12T21:27:22.665380Z"
    }
   },
   "cell_type": "code",
   "source": "answer[0]",
   "outputs": [
    {
     "data": {
      "text/plain": [
       "'Table: | Date Opponent# Rank# Site TV Result Attendance | September 3 Tennessee–Chattanooga* #11 Legion Field • Birmingham, AL  W\\xa042–13 82,109 | September 10 Vanderbilt #11 Bryant–Denny Stadium • Tuscaloosa, AL JPS W\\xa017–7 70,123 | September 17 at\\xa0Arkansas #12 Razorback Stadium • Fayetteville, AR ABC W\\xa013–6 52,089 | September 24 Tulane* #11 Legion Field • Birmingham, AL  W\\xa020–10 81,421 | October 1 Georgia #11 Bryant–Denny Stadium • Tuscaloosa, AL ESPN W\\xa029–28 70,123 | October 8 Southern Miss* #11 Bryant–Denny Stadium • Tuscaloosa, AL  W\\xa014–6 70,123 | October 15 at\\xa0Tennessee #10 Neyland Stadium • Knoxville, TN (Third Saturday in October) ESPN W\\xa017–13 96,856 | October 22 Ole Miss #8 Bryant–Denny Stadium • Tuscaloosa, AL (Rivalry) ABC W\\xa021–10 70,123 | November 5 at\\xa0LSU #6 Tiger Stadium • Baton Rouge, LA (Rivalry) ESPN W\\xa035–17 75,453 | November 12 at\\xa0#20\\xa0Mississippi State #6 Scott Field • Starkville, MS (Rivalry) ABC W\\xa029–25 41,358 | November 19 #6\\xa0Auburn #4 Legion Field • Birmingham, AL (Iron Bowl) ABC W\\xa021–14 83,091 | December 3 vs.\\xa0#6\\xa0Florida #3 Georgia Dome • Atlanta, GA (SEC Championship Game) ABC L\\xa023–24 74,751 | January 2, 1995 vs.\\xa0#13\\xa0Ohio State* #6 Citrus Bowl • Orlando, FL (Florida Citrus Bowl) ABC W\\xa024–17 71,195 |\\nQuestion: what was the total number of points scored by the tide in the last 3 games combined.\\nAnswers: 737522 |'"
      ]
     },
     "execution_count": 9,
     "metadata": {},
     "output_type": "execute_result"
    }
   ],
   "execution_count": 9
  },
  {
   "metadata": {
    "ExecuteTime": {
     "end_time": "2025-02-12T21:27:22.776226Z",
     "start_time": "2025-02-12T21:27:22.766700Z"
    }
   },
   "cell_type": "code",
   "source": "test_dataset[15][\"target\"]",
   "outputs": [
    {
     "data": {
      "text/plain": [
       "' | 68 |'"
      ]
     },
     "execution_count": 10,
     "metadata": {},
     "output_type": "execute_result"
    }
   ],
   "execution_count": 10
  },
  {
   "metadata": {},
   "cell_type": "markdown",
   "source": "### Cooked data test"
  },
  {
   "metadata": {
    "ExecuteTime": {
     "end_time": "2025-02-12T21:27:22.845648Z",
     "start_time": "2025-02-12T21:27:22.842438Z"
    }
   },
   "cell_type": "code",
   "source": [
    "prediction = ['17 years', '12', 'Italy', 'United States', '1979', '737522']\n",
    "label = ['17 years', '15', 'German', 'United States of America', '1979', '15']"
   ],
   "outputs": [],
   "execution_count": 11
  },
  {
   "metadata": {
    "ExecuteTime": {
     "end_time": "2025-02-12T21:27:24.415804Z",
     "start_time": "2025-02-12T21:27:22.860549Z"
    }
   },
   "cell_type": "code",
   "source": "compute_metrics(prediction, label)",
   "outputs": [
    {
     "name": "stdout",
     "output_type": "stream",
     "text": [
      "exact_matches: [1, 0, 0, 0, 1, 0]\n",
      "character_diff: [1.0, 0.5, 0.18181818181818182, 0.7027027027027027, 1.0, 0.25]\n",
      "f1_scores: [1.0, 0.0, 0.0, 0.6666666666666666, 1.0, 0.0]\n",
      "bleu_scores: [0.316227766016838, 0, 0, 0.11633369384516798, 0.1778279410038923, 0]\n",
      "meteor_scores: [0.9375, 0.0, 0.0, 0.4934210526315789, 0.5, 0.0]\n"
     ]
    },
    {
     "data": {
      "text/plain": [
       "{'exact_match': np.float64(0.3333333333333333),\n",
       " 'character_diff': np.float64(0.6057534807534808),\n",
       " 'f1': np.float64(0.4444444444444444),\n",
       " 'bleu': np.float64(0.10173156681098305),\n",
       " 'meteor': np.float64(0.3218201754385965)}"
      ]
     },
     "execution_count": 12,
     "metadata": {},
     "output_type": "execute_result"
    }
   ],
   "execution_count": 12
  },
  {
   "metadata": {
    "ExecuteTime": {
     "end_time": "2025-02-12T21:27:24.593829Z",
     "start_time": "2025-02-12T21:27:24.579239Z"
    }
   },
   "cell_type": "code",
   "source": "prediction[0].split(' ')",
   "outputs": [
    {
     "data": {
      "text/plain": [
       "['17', 'years']"
      ]
     },
     "execution_count": 13,
     "metadata": {},
     "output_type": "execute_result"
    }
   ],
   "execution_count": 13
  },
  {
   "metadata": {
    "ExecuteTime": {
     "end_time": "2025-02-12T21:27:24.682914Z",
     "start_time": "2025-02-12T21:27:24.673808Z"
    }
   },
   "cell_type": "code",
   "source": "prediction[1].split(' ')",
   "outputs": [
    {
     "data": {
      "text/plain": [
       "['12']"
      ]
     },
     "execution_count": 14,
     "metadata": {},
     "output_type": "execute_result"
    }
   ],
   "execution_count": 14
  },
  {
   "metadata": {
    "ExecuteTime": {
     "end_time": "2025-02-12T21:27:24.734154Z",
     "start_time": "2025-02-12T21:27:24.731507Z"
    }
   },
   "cell_type": "code",
   "source": "",
   "outputs": [],
   "execution_count": null
  }
 ],
 "metadata": {
  "kernelspec": {
   "display_name": "dac",
   "language": "python",
   "name": "python3"
  },
  "language_info": {
   "codemirror_mode": {
    "name": "ipython",
    "version": 3
   },
   "file_extension": ".py",
   "mimetype": "text/x-python",
   "name": "python",
   "nbconvert_exporter": "python",
   "pygments_lexer": "ipython3",
   "version": "3.11.9"
  }
 },
 "nbformat": 4,
 "nbformat_minor": 2
}
